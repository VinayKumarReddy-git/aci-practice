{
 "cells": [
  {
   "cell_type": "code",
   "execution_count": 11,
   "id": "b57dbf17-4948-48dd-a318-f94e04ef934f",
   "metadata": {},
   "outputs": [
    {
     "name": "stdout",
     "output_type": "stream",
     "text": [
      "{'goal_path': [22, 36, 42, 28], 'closednode_list': [32, 1, 2, 3, 36, 42, 15, 22, 23, 28, 30, 31]}\n"
     ]
    }
   ],
   "source": [
    "#import priority queue\n",
    "from queue import PriorityQueue \n",
    "\n",
    "#A* algo for shortest path\n",
    "def aStarAlgo(startNode, goalNode, heuristicWeight):\n",
    "    heuristic_map=get_heuristic_paths(6,7,(3,6))\n",
    "    open_queue = PriorityQueue()\n",
    "    open_queue.put((0,0,[startNode]))\n",
    "    visited = set()\n",
    "    while not open_queue.empty() :\n",
    "        _, cost_so_far, nodeList = open_queue.get()\n",
    "        current_node = nodeList[-1]\n",
    "        if current_node in visited:\n",
    "            continue\n",
    "        visited.add(current_node)\n",
    "        if current_node == goalNode:\n",
    "            return {\n",
    "                'goal_path': nodeList,\n",
    "                'closednode_list': list(visited)\n",
    "        }\n",
    "        for neighbor, edge_cost in path_graph.get(current_node, []):\n",
    "            if neighbor not in visited:\n",
    "                new_cost = cost_so_far + edge_cost\n",
    "                heuristic = heuristic_map.get(neighbor, 0)\n",
    "                priority = new_cost + heuristicWeight * heuristic\n",
    "                open_queue.put((priority, new_cost, nodeList + [neighbor]))\n",
    "    return {'goal_path':None, 'closednode_list':list(visited)}\n",
    "               \n",
    "#Lets define the heuristic paths\n",
    "def get_heuristic_paths(totalRows,totalColumns,goalNode):\n",
    "    heuristic_map={}\n",
    "    count=1\n",
    "    for i in range(0,totalRows):\n",
    "        for j in range(0,totalColumns):\n",
    "            heuristic_map[count]=abs(goalNode[0]-i)+abs(goalNode[1]-j)\n",
    "            count+=1\n",
    "    return heuristic_map\n",
    "            \n",
    "#Lets define the graph\n",
    "path_graph={\n",
    "    22:[(23,8),(36,6)],\n",
    "    23:[(2,9)],\n",
    "    2:[(1,3),(3,8)],\n",
    "    1:[(15,6)],\n",
    "    3:[(31,12)],\n",
    "    31:[(30,3),(32,8)],\n",
    "    32:[(4,12)],\n",
    "    4:[(5,8)],\n",
    "    5: [(33,12)],\n",
    "    33:[(34,8)],\n",
    "    34:[(6,12)],\n",
    "    6:[(7,8)],\n",
    "    7:[(28,9)],\n",
    "    36:[(42,48)],\n",
    "    42:[(28,6)]\n",
    "}\n",
    "\n",
    "print(aStarAlgo(22,28,1))"
   ]
  },
  {
   "cell_type": "markdown",
   "id": "b53ef1d4",
   "metadata": {},
   "source": []
  },
  {
   "cell_type": "code",
   "execution_count": null,
   "id": "19803d4b-c054-432b-8e68-e0e6d72e8eab",
   "metadata": {},
   "outputs": [],
   "source": []
  }
 ],
 "metadata": {
  "kernelspec": {
   "display_name": "Python [conda env:base] *",
   "language": "python",
   "name": "conda-base-py"
  },
  "language_info": {
   "codemirror_mode": {
    "name": "ipython",
    "version": 3
   },
   "file_extension": ".py",
   "mimetype": "text/x-python",
   "name": "python",
   "nbconvert_exporter": "python",
   "pygments_lexer": "ipython3",
   "version": "3.12.7"
  }
 },
 "nbformat": 4,
 "nbformat_minor": 5
}
