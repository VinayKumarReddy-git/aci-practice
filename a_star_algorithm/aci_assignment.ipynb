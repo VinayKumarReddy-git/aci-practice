{
 "cells": [
  {
   "cell_type": "code",
   "execution_count": 226,
   "id": "81fd630c-88e4-4403-89ca-291515878482",
   "metadata": {},
   "outputs": [],
   "source": [
    "#import priority queue\n",
    "from queue import PriorityQueue "
   ]
  },
  {
   "cell_type": "code",
   "execution_count": 239,
   "id": "bf33d429-3fe6-4f4b-9200-7fa14ccac1d8",
   "metadata": {},
   "outputs": [],
   "source": [
    "rows=6\n",
    "columns=7\n",
    "start_node='D1'\n",
    "goal_node='D7'\n",
    "heuristic_weight=2.5\n",
    "goal_node_position = (3,6)\n",
    "path_graph={\n",
    "    'D1':[('D2',8),('E1',3)],\n",
    "    'E1':[('F1',3)],\n",
    "    'D2':[('C2',3)],\n",
    "    'C2':[('B2',3)],\n",
    "    'B2':[('A2',3)],\n",
    "    'A2':[('A1',3),('A3',8)],\n",
    "    'A1':[('B1',3)],\n",
    "    'B1':[('C1',3)],\n",
    "    'A3':[('B3',3)],\n",
    "    'B3':[('C3',3)],\n",
    "    'C3':[('D3',3)],\n",
    "    'D3':[('E3',3)],\n",
    "    'E3':[('E2',3),('E4',8)],\n",
    "    'E4':[('D4',3)],\n",
    "    'D4':[('C4',3)],\n",
    "    'C4':[('B4',3)],\n",
    "    'B4':[('A4',3)],\n",
    "    'A4':[('A5',8)],\n",
    "    'A5':[('B5',3)],\n",
    "    'B5':[('C5',3)],\n",
    "    'C5':[('D5',3)],\n",
    "    'D5':[('E5',3)],\n",
    "    'E5':[('E6',8)],\n",
    "    'E6':[('D6',3)],\n",
    "    'D6':[('C6',3)],\n",
    "    'C6':[('B6',3)],\n",
    "    'B6':[('A6',3)],\n",
    "    'A6':[('A7',8)],\n",
    "    'A7':[('B7',3)],\n",
    "    'B7':[('C7',3)],\n",
    "    'C7':[('D7',3)],\n",
    "    'F1':[('F2',8)],\n",
    "    'F2':[('F3',8)],\n",
    "    'F3':[('F4',8)],\n",
    "    'F4':[('F5',8)],\n",
    "    'F5':[('F6',8)],\n",
    "    'F6':[('F7',8)],\n",
    "    'F7':[('E7',3)],\n",
    "    'E7':[('D7',3)],\n",
    "}"
   ]
  },
  {
   "cell_type": "code",
   "execution_count": 240,
   "id": "27f722c1-58a0-47a0-be64-077dbf4659e9",
   "metadata": {},
   "outputs": [],
   "source": [
    "# heuristic for grid\n",
    "def get_heuristic_paths():\n",
    "    heuristic_map={}\n",
    "    int_alphabet_map={0:'A',1:'B',2:'C',3:'D',4:'E',5:'F'}\n",
    "    for i in range(0,rows):\n",
    "        for j in range(0,columns):\n",
    "            heuristic_map[f'{int_alphabet_map[i]}{j+1}']=abs(goal_node_position[0]-i)+abs(goal_node_position[1]-j)\n",
    "    return heuristic_map"
   ]
  },
  {
   "cell_type": "code",
   "execution_count": 241,
   "id": "6bc5ce9c-2e26-48bf-b1f5-f9a262eb8c3b",
   "metadata": {},
   "outputs": [],
   "source": [
    "#A* algo for shortest path\n",
    "def aStarAlgo(startNode, goalNode):\n",
    "    heuristic_map=get_heuristic_paths()\n",
    "    print(heuristic_map)\n",
    "    open_queue = PriorityQueue()\n",
    "    open_queue.put((0,0,[startNode]))\n",
    "    visited = set()\n",
    "    while not open_queue.empty() :\n",
    "        _, cost_so_far, nodeList = open_queue.get()\n",
    "        current_node = nodeList[-1]\n",
    "        if current_node in visited:\n",
    "            continue\n",
    "        visited.add(current_node)\n",
    "        if current_node == goalNode:\n",
    "            return {\n",
    "                'goal_path': nodeList,\n",
    "                'closednode_list': list(visited),\n",
    "                'closednode_list_len': len(visited)\n",
    "        }\n",
    "        for neighbor, edge_cost in path_graph.get(current_node, []):\n",
    "            if neighbor not in visited:\n",
    "                new_cost = cost_so_far + edge_cost\n",
    "                heuristic = heuristic_map.get(neighbor, 0)\n",
    "                priority = new_cost + heuristic_weight * heuristic\n",
    "                open_queue.put((priority, new_cost, nodeList + [neighbor]))\n",
    "    return {'goal_path':None, 'closednode_list':list(visited),\n",
    "                'closednode_list_len': len(visited)}"
   ]
  },
  {
   "cell_type": "code",
   "execution_count": 242,
   "id": "e690fb63",
   "metadata": {},
   "outputs": [
    {
     "name": "stdout",
     "output_type": "stream",
     "text": [
      "{'A1': 9, 'A2': 8, 'A3': 7, 'A4': 6, 'A5': 5, 'A6': 4, 'A7': 3, 'B1': 8, 'B2': 7, 'B3': 6, 'B4': 5, 'B5': 4, 'B6': 3, 'B7': 2, 'C1': 7, 'C2': 6, 'C3': 5, 'C4': 4, 'C5': 3, 'C6': 2, 'C7': 1, 'D1': 6, 'D2': 5, 'D3': 4, 'D4': 3, 'D5': 2, 'D6': 1, 'D7': 0, 'E1': 7, 'E2': 6, 'E3': 5, 'E4': 4, 'E5': 3, 'E6': 2, 'E7': 1, 'F1': 8, 'F2': 7, 'F3': 6, 'F4': 5, 'F5': 4, 'F6': 3, 'F7': 2}\n"
     ]
    },
    {
     "data": {
      "text/plain": [
       "{'goal_path': ['D1',\n",
       "  'E1',\n",
       "  'F1',\n",
       "  'F2',\n",
       "  'F3',\n",
       "  'F4',\n",
       "  'F5',\n",
       "  'F6',\n",
       "  'F7',\n",
       "  'E7',\n",
       "  'D7'],\n",
       " 'closednode_list': ['D2',\n",
       "  'F2',\n",
       "  'B2',\n",
       "  'F7',\n",
       "  'C3',\n",
       "  'F4',\n",
       "  'A3',\n",
       "  'C2',\n",
       "  'D7',\n",
       "  'E1',\n",
       "  'D4',\n",
       "  'F3',\n",
       "  'E7',\n",
       "  'F1',\n",
       "  'E4',\n",
       "  'B1',\n",
       "  'A1',\n",
       "  'B3',\n",
       "  'C1',\n",
       "  'E3',\n",
       "  'F5',\n",
       "  'D3',\n",
       "  'A2',\n",
       "  'D1',\n",
       "  'E2',\n",
       "  'F6'],\n",
       " 'closednode_list_len': 26}"
      ]
     },
     "execution_count": 242,
     "metadata": {},
     "output_type": "execute_result"
    }
   ],
   "source": [
    "aStarAlgo(start_node,goal_node)"
   ]
  }
 ],
 "metadata": {
  "kernelspec": {
   "display_name": "base",
   "language": "python",
   "name": "python3"
  },
  "language_info": {
   "codemirror_mode": {
    "name": "ipython",
    "version": 3
   },
   "file_extension": ".py",
   "mimetype": "text/x-python",
   "name": "python",
   "nbconvert_exporter": "python",
   "pygments_lexer": "ipython3",
   "version": "3.12.7"
  }
 },
 "nbformat": 4,
 "nbformat_minor": 5
}
