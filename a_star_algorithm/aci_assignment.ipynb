{
 "cells": [
  {
   "cell_type": "code",
   "execution_count": 50,
   "id": "81fd630c-88e4-4403-89ca-291515878482",
   "metadata": {},
   "outputs": [],
   "source": [
    "#import priority queue\n",
    "from queue import PriorityQueue "
   ]
  },
  {
   "cell_type": "code",
   "execution_count": 59,
   "id": "bf33d429-3fe6-4f4b-9200-7fa14ccac1d8",
   "metadata": {},
   "outputs": [],
   "source": [
    "rows=6\n",
    "columns=7\n",
    "start_node=22\n",
    "goal_node=28\n",
    "heuristic_weight=1\n",
    "path_graph={\n",
    "    22:[(23,8),(36,6)],\n",
    "    23:[(2,9),(22,3)],\n",
    "    2:[(1,3),(3,8),(23,9)],\n",
    "    1:[(15,6),(2,8)],\n",
    "    3:[(31,12)],\n",
    "    31:[(30,3),(32,8)],\n",
    "    32:[(4,12)],\n",
    "    4:[(5,8)],\n",
    "    5: [(33,12)],\n",
    "    33:[(34,8)],\n",
    "    34:[(6,12)],\n",
    "    6:[(7,8)],\n",
    "    7:[(28,9)],\n",
    "    36:[(42,48),(22,6)],\n",
    "    42:[(28,6)],\n",
    "    15:[(1,6)]\n",
    "}"
   ]
  },
  {
   "cell_type": "code",
   "execution_count": 60,
   "id": "27f722c1-58a0-47a0-be64-077dbf4659e9",
   "metadata": {},
   "outputs": [],
   "source": [
    "# heuristic for grid\n",
    "def get_heuristic_paths(goalNode):\n",
    "    heuristic_map={}\n",
    "    count=1\n",
    "    for i in range(0,rows):\n",
    "        for j in range(0,columns):\n",
    "            heuristic_map[count]=abs(goalNode[0]-i)+abs(goalNode[1]-j)\n",
    "            count+=1\n",
    "    return heuristic_map"
   ]
  },
  {
   "cell_type": "code",
   "execution_count": 61,
   "id": "6bc5ce9c-2e26-48bf-b1f5-f9a262eb8c3b",
   "metadata": {},
   "outputs": [],
   "source": [
    "#A* algo for shortest path\n",
    "def aStarAlgo(startNode, goalNode):\n",
    "    heuristic_map=get_heuristic_paths((3,6))\n",
    "    open_queue = PriorityQueue()\n",
    "    open_queue.put((0,0,[startNode]))\n",
    "    visited = set()\n",
    "    while not open_queue.empty() :\n",
    "        _, cost_so_far, nodeList = open_queue.get()\n",
    "        current_node = nodeList[-1]\n",
    "        if current_node in visited:\n",
    "            continue\n",
    "        visited.add(current_node)\n",
    "        if current_node == goalNode:\n",
    "            return {\n",
    "                'goal_path': nodeList,\n",
    "                'closednode_list': list(visited)\n",
    "        }\n",
    "        for neighbor, edge_cost in path_graph.get(current_node, []):\n",
    "            if neighbor not in visited:\n",
    "                new_cost = cost_so_far + edge_cost\n",
    "                heuristic = heuristic_map.get(neighbor, 0)\n",
    "                priority = new_cost + heuristic_weight * heuristic\n",
    "                open_queue.put((priority, new_cost, nodeList + [neighbor]))\n",
    "    return {'goal_path':None, 'closednode_list':list(visited)}"
   ]
  },
  {
   "cell_type": "code",
   "execution_count": 62,
   "metadata": {},
   "outputs": [
    {
     "name": "stdout",
     "output_type": "stream",
     "text": [
      "{'goal_path': [22, 36, 42, 28], 'closednode_list': [32, 1, 2, 3, 36, 42, 15, 22, 23, 28, 30, 31]}\n"
     ]
    }
   ],
   "source": [
    "print(aStarAlgo(start_node,goal_node))"
   ]
  }
 ],
 "metadata": {
  "kernelspec": {
   "display_name": "base",
   "language": "python",
   "name": "python3"
  },
  "language_info": {
   "codemirror_mode": {
    "name": "ipython",
    "version": 3
   },
   "file_extension": ".py",
   "mimetype": "text/x-python",
   "name": "python",
   "nbconvert_exporter": "python",
   "pygments_lexer": "ipython3",
   "version": "3.12.7"
  }
 },
 "nbformat": 4,
 "nbformat_minor": 5
}
