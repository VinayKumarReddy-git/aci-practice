{
 "cells": [
  {
   "cell_type": "markdown",
   "metadata": {
    "id": "H9GUkMwzFyub"
   },
   "source": [
    "# Artificial and Computational Intelligence Assignment 1"
   ]
  },
  {
   "cell_type": "markdown",
   "metadata": {
    "id": "f-GjrEkrFyuc"
   },
   "source": [
    "## Problem solving by Informed Search and/or Local Search"
   ]
  },
  {
   "cell_type": "markdown",
   "metadata": {
    "id": "hPcErLCRFyuc"
   },
   "source": [
    "**Mandatory Detail: The Word  document and IPYNB FILE must include:**\n",
    "\n",
    "o\tBITS IDs of all team members\n",
    "\n",
    "o\tTheir individual contribution percentages\n",
    "\n",
    "\n",
    "\n",
    "\n",
    "\n",
    "\n",
    "![image.png](data:image/png;base64,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)"
   ]
  },
  {
   "cell_type": "markdown",
   "metadata": {
    "id": "Ef7sw-14Fyuc"
   },
   "source": [
    "Things to follow\n",
    "1.\tUse appropriate data structures to represent the graph and the path using python libraries\n",
    "2.\tProvide proper documentation\n",
    "3.\tFind the path and print it"
   ]
  },
  {
   "cell_type": "markdown",
   "metadata": {
    "id": "3BbratsKFyud"
   },
   "source": [
    "Coding begins here"
   ]
  },
  {
   "cell_type": "markdown",
   "metadata": {
    "id": "Y8SauNckFyud"
   },
   "source": [
    "### 1.\tDefine the environment in the following block"
   ]
  },
  {
   "cell_type": "markdown",
   "metadata": {
    "id": "xTAkkRECFyud"
   },
   "source": [
    "List the PEAS decription of the problem here in this markdown block"
   ]
  },
  {
   "cell_type": "markdown",
   "metadata": {},
   "source": [
    "##### Performance:"
   ]
  },
  {
   "cell_type": "markdown",
   "metadata": {
    "id": "57ocILq2Fyud"
   },
   "source": [
    "Design the agent as PSA Agent(Problem Solving Agent)\n",
    "Clear Initial data structures to define the graph and variable declarations is expected\n",
    "IMPORTATANT: Write distinct code block as below"
   ]
  },
  {
   "cell_type": "code",
   "execution_count": 114,
   "metadata": {
    "id": "2MAHnXD1Fyud"
   },
   "outputs": [],
   "source": [
    "#Code Block : Set Initial State (Must handle dynamic inputs)\n",
    "import re\n",
    "import time\n",
    "import sys\n",
    "from queue import PriorityQueue\n",
    "\n",
    "start_time = time.time()\n",
    "\n",
    "rows=6\n",
    "columns=7"
   ]
  },
  {
   "cell_type": "code",
   "execution_count": 115,
   "metadata": {
    "id": "3DzivjiGFyue"
   },
   "outputs": [],
   "source": [
    "#Code Block : Set the matrix for transition & cost (as relevant for the given problem)\n",
    "\n",
    "path_graph={\n",
    "    'D1':[('D2',8),('E1',3)],\n",
    "    'E1':[('F1',3)],\n",
    "    'D2':[('C2',3)],\n",
    "    'C2':[('B2',3)],\n",
    "    'B2':[('A2',3)],\n",
    "    'A2':[('A1',3),('A3',8)],\n",
    "    'A1':[('B1',3)],\n",
    "    'B1':[('C1',3)],\n",
    "    'A3':[('B3',3)],\n",
    "    'B3':[('C3',3)],\n",
    "    'C3':[('D3',3)],\n",
    "    'D3':[('E3',3)],\n",
    "    'E3':[('E2',3),('E4',8)],\n",
    "    'E4':[('D4',3)],\n",
    "    'D4':[('C4',3)],\n",
    "    'C4':[('B4',3)],\n",
    "    'B4':[('A4',3)],\n",
    "    'A4':[('A5',8)],\n",
    "    'A5':[('B5',3)],\n",
    "    'B5':[('C5',3)],\n",
    "    'C5':[('D5',3)],\n",
    "    'D5':[('E5',3)],\n",
    "    'E5':[('E6',8)],\n",
    "    'E6':[('D6',3)],\n",
    "    'D6':[('C6',3)],\n",
    "    'C6':[('B6',3)],\n",
    "    'B6':[('A6',3)],\n",
    "    'A6':[('A7',8)],\n",
    "    'A7':[('B7',3)],\n",
    "    'B7':[('C7',3)],\n",
    "    'C7':[('D7',3)],\n",
    "    'F1':[('F2',8)],\n",
    "    'F2':[('F3',8)],\n",
    "    'F3':[('F4',8)],\n",
    "    'F4':[('F5',8)],\n",
    "    'F5':[('F6',8)],\n",
    "    'F6':[('F7',8)],\n",
    "    'F7':[('E7',3)],\n",
    "    'E7':[('D7',3)],\n",
    "}\n",
    "def get_heuristic_paths(goal_node):\n",
    "    heuristic_map={}\n",
    "    match = re.match(r\"([A-Za-z]+)([0-9]+)\", goal_node)\n",
    "    if match:\n",
    "        letter_part = match.group(1)\n",
    "        number_part = int(match.group(2))\n",
    "        int_alphabet_map={0:'A',1:'B',2:'C',3:'D',4:'E',5:'F'}\n",
    "        key = next((k for k, v in int_alphabet_map.items() if v == letter_part), None)\n",
    "        goal_node_position=(key,int(number_part)-1)\n",
    "        for i in range(0,rows):\n",
    "            for j in range(0,columns):\n",
    "                heuristic_map[f'{int_alphabet_map[i]}{j+1}']=abs(goal_node_position[0]-i)+abs(goal_node_position[1]-j)\n",
    "    return heuristic_map"
   ]
  },
  {
   "cell_type": "code",
   "execution_count": 116,
   "metadata": {
    "id": "X0dhW7_LFyue"
   },
   "outputs": [],
   "source": [
    "#Code Block : Write function to design the Transition Model/Successor function. Ideally this would be called while search algorithms are implemented\n",
    "def expandChildNodes(new_cost, nodeList,heuristic_map,neighbor, heuristic_weight):\n",
    "    heuristic = heuristic_map.get(neighbor, 0)\n",
    "    priority = new_cost + heuristic_weight * heuristic\n",
    "    return (priority, new_cost, nodeList + [neighbor])"
   ]
  },
  {
   "cell_type": "code",
   "execution_count": 117,
   "metadata": {
    "id": "zImA1VT4Fyue"
   },
   "outputs": [],
   "source": [
    "#Code block : Write function to handle goal test (Must handle dynamic inputs). Ideally this would be called while search algorithms are implemented\n",
    "def isGoalReached(current_node, goal_node):\n",
    "    return current_node == goal_node\n"
   ]
  },
  {
   "cell_type": "markdown",
   "metadata": {
    "id": "Dv_aI84TFyue"
   },
   "source": [
    "### 2.\tDefinition of Algorithm  (Mention the Name of the algorithm )"
   ]
  },
  {
   "cell_type": "code",
   "execution_count": 118,
   "metadata": {
    "id": "SQWEw6mUFyue"
   },
   "outputs": [],
   "source": [
    "#Code Block : Function for algorithm 1 implementation\n",
    "\n",
    "def aStarAlgorithm(start_node, goal_node, heuristic_weight):\n",
    "    heuristic_map=get_heuristic_paths(goal_node)\n",
    "    open_queue = PriorityQueue()\n",
    "    open_queue.put((0,0,[start_node]))\n",
    "    visited = set()\n",
    "    while not open_queue.empty() :\n",
    "        _, cost_so_far, nodeList = open_queue.get()\n",
    "        current_node = nodeList[-1]\n",
    "        if current_node in visited:\n",
    "            continue\n",
    "        visited.add(current_node)\n",
    "        if isGoalReached(current_node, goal_node):\n",
    "            return {\n",
    "                'goal_path': nodeList,\n",
    "                'closednode_list': list(visited),\n",
    "                'closednode_list_len': len(visited)\n",
    "        }\n",
    "        for neighbor, edge_cost in path_graph.get(current_node, []):\n",
    "            if neighbor not in visited:\n",
    "                new_cost = cost_so_far+edge_cost\n",
    "                open_queue.put(expandChildNodes(new_cost, nodeList, heuristic_map, neighbor, heuristic_weight))\n",
    "    return {'goal_path':None, 'closednode_list':list(visited),\n",
    "                'closednode_list_len': len(visited)}"
   ]
  },
  {
   "cell_type": "markdown",
   "metadata": {
    "id": "Yby5rPLMFyuf"
   },
   "source": [
    "### DYNAMIC INPUT"
   ]
  },
  {
   "cell_type": "markdown",
   "metadata": {
    "id": "DCCXQ0owFyuf"
   },
   "source": [
    "IMPORTANT : Dynamic Input must be got in this section. Display the possible states to choose from:\n",
    "This is applicable for all the relevent problems as mentioned in the question."
   ]
  },
  {
   "cell_type": "code",
   "execution_count": 119,
   "metadata": {
    "id": "beAnddJKFyuf"
   },
   "outputs": [],
   "source": [
    "#Code Block : Function & call to get inputs (start/end state)\n",
    "start_node= input('Please enter the start/initial node between (A1-F7)')\n",
    "goal_node= input('Please enter the end/goal node between (A1-F7)')\n",
    "heuristic_weight= float(input('Please enter heuristic weight in numberic'))"
   ]
  },
  {
   "cell_type": "markdown",
   "metadata": {
    "id": "bqVEUFRoFyuf"
   },
   "source": [
    "### 4.\tCalling the search algorithms"
   ]
  },
  {
   "cell_type": "code",
   "execution_count": 120,
   "metadata": {
    "id": "y9CAb9j8Fyuf"
   },
   "outputs": [
    {
     "name": "stdout",
     "output_type": "stream",
     "text": [
      "['D1', 'E1', 'F1', 'F2', 'F3', 'F4', 'F5', 'F6', 'F7', 'E7', 'D7']\n",
      "['B2', 'E1', 'D3', 'A1', 'F3', 'F7', 'F5', 'D2', 'D1', 'F2', 'A3', 'B1', 'C2', 'C3', 'E2', 'E7', 'F1', 'D4', 'C1', 'F4', 'A2', 'D7', 'B3', 'F6', 'E3', 'E4']\n"
     ]
    }
   ],
   "source": [
    "#Invoke algorithm 1 (Should Print the solution, path, cost, Interpretation etc., (As mentioned in the problem))\n",
    "result=aStarAlgorithm(start_node,goal_node,heuristic_weight)\n",
    "print(result['goal_path'])\n",
    "print(result['closednode_list'])"
   ]
  },
  {
   "cell_type": "markdown",
   "metadata": {
    "id": "pPN1mgOSFyug"
   },
   "source": [
    "### 5.\tComparitive Analysis"
   ]
  },
  {
   "cell_type": "code",
   "execution_count": 121,
   "metadata": {
    "id": "EwBYRVQHFyug"
   },
   "outputs": [
    {
     "name": "stdout",
     "output_type": "stream",
     "text": [
      "Execution time: 12.625363 seconds\n",
      "Visited set memory: 264 bytes\n"
     ]
    }
   ],
   "source": [
    "#Code Block : Print the Time & Space complexity of algorithm\n",
    "end_time = time.time()\n",
    "print(f\"Execution time: {(end_time - start_time):.6f} seconds\")\n",
    "print(f\"Visited set memory: {sys.getsizeof(result['closednode_list'])} bytes\")"
   ]
  }
 ],
 "metadata": {
  "colab": {
   "provenance": []
  },
  "kernelspec": {
   "display_name": "base",
   "language": "python",
   "name": "python3"
  },
  "language_info": {
   "codemirror_mode": {
    "name": "ipython",
    "version": 3
   },
   "file_extension": ".py",
   "mimetype": "text/x-python",
   "name": "python",
   "nbconvert_exporter": "python",
   "pygments_lexer": "ipython3",
   "version": "3.12.7"
  }
 },
 "nbformat": 4,
 "nbformat_minor": 4
}
