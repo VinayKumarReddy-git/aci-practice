{
 "cells": [
  {
   "cell_type": "code",
   "execution_count": null,
   "id": "6b314157-f812-4b75-b85c-2d0d67fee636",
   "metadata": {},
   "outputs": [],
   "source": [
    "from queue import PriorityQueue "
   ]
  },
  {
   "cell_type": "code",
   "execution_count": 26,
   "id": "b57dbf17-4948-48dd-a318-f94e04ef934f",
   "metadata": {},
   "outputs": [
    {
     "data": {
      "text/plain": [
       "{1: 9,\n",
       " 2: 8,\n",
       " 3: 7,\n",
       " 4: 6,\n",
       " 5: 5,\n",
       " 6: 4,\n",
       " 7: 3,\n",
       " 8: 8,\n",
       " 9: 7,\n",
       " 10: 6,\n",
       " 11: 5,\n",
       " 12: 4,\n",
       " 13: 3,\n",
       " 14: 2,\n",
       " 15: 7,\n",
       " 16: 6,\n",
       " 17: 5,\n",
       " 18: 4,\n",
       " 19: 3,\n",
       " 20: 2,\n",
       " 21: 1,\n",
       " 22: 6,\n",
       " 23: 5,\n",
       " 24: 4,\n",
       " 25: 3,\n",
       " 26: 2,\n",
       " 27: 1,\n",
       " 28: 0,\n",
       " 29: 5,\n",
       " 30: 4,\n",
       " 31: 3,\n",
       " 32: 2,\n",
       " 33: 1,\n",
       " 34: 0,\n",
       " 35: 1,\n",
       " 36: 4,\n",
       " 37: 3,\n",
       " 38: 2,\n",
       " 39: 1,\n",
       " 40: 0,\n",
       " 41: 1,\n",
       " 42: 2}"
      ]
     },
     "execution_count": 26,
     "metadata": {},
     "output_type": "execute_result"
    }
   ],
   "source": [
    "\n",
    "#A* algo for shortest path\n",
    "def aStarAlgo(startNode, goalNode, heuristicWeight):\n",
    "    heuristic_map=get_heuristic_paths()\n",
    "    pq = PriorityQueue()\n",
    "    parent_node = path_graph[startNode]\n",
    "    while len(startNodes) > 0:\n",
    "        \n",
    "    print('algo')\n",
    "#Lets define the heuristic paths\n",
    "def get_heuristic_paths(totalRows,totalColumns,goalNode):\n",
    "    count=1\n",
    "    for i in range(0,totalRows):\n",
    "        for j in range(0,totalColumns):\n",
    "            heuristic_map[count]=abs((goalNode[0]-i)+(goalNode[1]-j))\n",
    "            count+=1\n",
    "    return heuristic_map\n",
    "            \n",
    "#Lets define the graph\n",
    "path_graph={\n",
    "    22:[(23,8),(36,6)],\n",
    "    23:[(2,9)],\n",
    "    2:[(1,3),(3,8)],\n",
    "    1:[(15,6)],\n",
    "    3:[(31,12)],\n",
    "    31:[(30,3),(32,8)],\n",
    "    32:[(4,12)],\n",
    "    4:[(5,8)],\n",
    "    5: [(33,12)],\n",
    "    33:[(34,8)],\n",
    "    34:[(6,12)],\n",
    "    6:[(7,8)],\n",
    "    7:[(28,9)],\n",
    "    36:[(42,48)],\n",
    "    42:[(28,6)]\n",
    "}\n",
    "\n",
    "get_heuristic_paths(6,7,(3,6))"
   ]
  },
  {
   "cell_type": "code",
   "execution_count": 1,
   "id": "caaa0f86-bde2-4c99-acea-9087a7ce8f00",
   "metadata": {},
   "outputs": [
    {
     "name": "stdout",
     "output_type": "stream",
     "text": [
      "Processing: Task A (Priority: 1)\n",
      "Processing: Task B (Priority: 2)\n",
      "Processing: Task C (Priority: 3)\n"
     ]
    }
   ],
   "source": [
    "import queue\n",
    "\n",
    "pq = queue.PriorityQueue()\n",
    "\n",
    "pq.put((3, 'Task C')) # Lower number indicates higher priority\n",
    "pq.put((1, 'Task A'))\n",
    "pq.put((2, 'Task B'))\n",
    "\n",
    "while not pq.empty():\n",
    "        priority, task = pq.get()\n",
    "        print(f\"Processing: {task} (Priority: {priority})\")"
   ]
  },
  {
   "cell_type": "code",
   "execution_count": null,
   "id": "4cd455d4-05d0-447a-9e13-cc8404e6bf31",
   "metadata": {},
   "outputs": [],
   "source": []
  },
  {
   "cell_type": "code",
   "execution_count": null,
   "id": "fb7568c8-fee8-4922-bb50-65f9013c3fdf",
   "metadata": {},
   "outputs": [],
   "source": []
  }
 ],
 "metadata": {
  "kernelspec": {
   "display_name": "base",
   "language": "python",
   "name": "python3"
  },
  "language_info": {
   "codemirror_mode": {
    "name": "ipython",
    "version": 3
   },
   "file_extension": ".py",
   "mimetype": "text/x-python",
   "name": "python",
   "nbconvert_exporter": "python",
   "pygments_lexer": "ipython3",
   "version": "3.12.7"
  }
 },
 "nbformat": 4,
 "nbformat_minor": 5
}
